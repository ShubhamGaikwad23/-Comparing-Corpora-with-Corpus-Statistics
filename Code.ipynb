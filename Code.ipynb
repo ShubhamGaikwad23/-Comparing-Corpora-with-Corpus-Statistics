{
 "cells": [
  {
   "cell_type": "code",
   "execution_count": 108,
   "id": "445d8008-3e6b-4343-8d96-a1383158aa2b",
   "metadata": {},
   "outputs": [],
   "source": [
    "import nltk"
   ]
  },
  {
   "cell_type": "code",
   "execution_count": 109,
   "id": "0c311218-5621-4262-bc9b-ef588b855d51",
   "metadata": {},
   "outputs": [
    {
     "data": {
      "text/plain": [
       "['austen-emma.txt',\n",
       " 'austen-persuasion.txt',\n",
       " 'austen-sense.txt',\n",
       " 'bible-kjv.txt',\n",
       " 'blake-poems.txt',\n",
       " 'bryant-stories.txt',\n",
       " 'burgess-busterbrown.txt',\n",
       " 'carroll-alice.txt',\n",
       " 'chesterton-ball.txt',\n",
       " 'chesterton-brown.txt',\n",
       " 'chesterton-thursday.txt',\n",
       " 'edgeworth-parents.txt',\n",
       " 'melville-moby_dick.txt',\n",
       " 'milton-paradise.txt',\n",
       " 'shakespeare-caesar.txt',\n",
       " 'shakespeare-hamlet.txt',\n",
       " 'shakespeare-macbeth.txt',\n",
       " 'whitman-leaves.txt']"
      ]
     },
     "execution_count": 109,
     "metadata": {},
     "output_type": "execute_result"
    }
   ],
   "source": [
    "nltk.corpus.gutenberg.fileids()"
   ]
  },
  {
   "cell_type": "code",
   "execution_count": 110,
   "id": "4947cc14-4e57-4d78-8c27-bf633c6f4263",
   "metadata": {},
   "outputs": [
    {
     "data": {
      "text/plain": [
       "'blake-poems.txt'"
      ]
     },
     "execution_count": 110,
     "metadata": {},
     "output_type": "execute_result"
    }
   ],
   "source": [
    "File1 = nltk.corpus.gutenberg.fileids()[4]\n",
    "File1"
   ]
  },
  {
   "cell_type": "code",
   "execution_count": 111,
   "id": "783509cf-fc47-4af2-aee1-004fb75a365d",
   "metadata": {},
   "outputs": [
    {
     "data": {
      "text/plain": [
       "'shakespeare-hamlet.txt'"
      ]
     },
     "execution_count": 111,
     "metadata": {},
     "output_type": "execute_result"
    }
   ],
   "source": [
    "File2 = nltk.corpus.gutenberg.fileids()[15]\n",
    "File2"
   ]
  },
  {
   "cell_type": "code",
   "execution_count": 112,
   "id": "7ef1c298-d14e-4722-b281-af589fd34ed7",
   "metadata": {},
   "outputs": [
    {
     "data": {
      "text/plain": [
       "38153"
      ]
     },
     "execution_count": 112,
     "metadata": {},
     "output_type": "execute_result"
    }
   ],
   "source": [
    "blake_poems_text = nltk.corpus.gutenberg.raw(File1)\n",
    "len(blake_poems_text)"
   ]
  },
  {
   "cell_type": "code",
   "execution_count": 113,
   "id": "646a31d6-e6d3-452d-9170-4311b8d5c456",
   "metadata": {},
   "outputs": [
    {
     "data": {
      "text/plain": [
       "162881"
      ]
     },
     "execution_count": 113,
     "metadata": {},
     "output_type": "execute_result"
    }
   ],
   "source": [
    "shakespeare_hamlet_text = nltk.corpus.gutenberg.raw(File2)\n",
    "len(shakespeare_hamlet_text)"
   ]
  },
  {
   "cell_type": "code",
   "execution_count": 114,
   "id": "1ff34069-284f-4025-9fa0-d98a3aaa4fdf",
   "metadata": {},
   "outputs": [],
   "source": [
    "# PROCESSING TEXT"
   ]
  },
  {
   "cell_type": "code",
   "execution_count": 115,
   "id": "12dd0ea2-c161-450f-86c5-14644edb0615",
   "metadata": {},
   "outputs": [
    {
     "data": {
      "text/plain": [
       "36372"
      ]
     },
     "execution_count": 115,
     "metadata": {},
     "output_type": "execute_result"
    }
   ],
   "source": [
    "shakespeare_tokens = nltk.word_tokenize(shakespeare_hamlet_text)\n",
    "len(shakespeare_tokens)"
   ]
  },
  {
   "cell_type": "code",
   "execution_count": 117,
   "id": "8547f6d6-730d-4837-8139-b07669803d8d",
   "metadata": {},
   "outputs": [
    {
     "data": {
      "text/plain": [
       "8239"
      ]
     },
     "execution_count": 117,
     "metadata": {},
     "output_type": "execute_result"
    }
   ],
   "source": [
    "blake_poems_tokens = nltk.word_tokenize(blake_poems_text)\n",
    "len(blake_poems_tokens)"
   ]
  },
  {
   "cell_type": "code",
   "execution_count": 12,
   "id": "e42f6c0f-674c-46fa-a917-a7743bc4a049",
   "metadata": {},
   "outputs": [
    {
     "data": {
      "text/plain": [
       "['[',\n",
       " 'The',\n",
       " 'Tragedie',\n",
       " 'of',\n",
       " 'Hamlet',\n",
       " 'by',\n",
       " 'William',\n",
       " 'Shakespeare',\n",
       " '1599',\n",
       " ']',\n",
       " 'Actus',\n",
       " 'Primus',\n",
       " '.',\n",
       " 'Scoena',\n",
       " 'Prima',\n",
       " '.',\n",
       " 'Enter',\n",
       " 'Barnardo',\n",
       " 'and',\n",
       " 'Francisco',\n",
       " 'two',\n",
       " 'Centinels',\n",
       " '.',\n",
       " 'Barnardo',\n",
       " '.',\n",
       " 'Who',\n",
       " \"'s\",\n",
       " 'there',\n",
       " '?',\n",
       " 'Fran',\n",
       " '.',\n",
       " 'Nay',\n",
       " 'answer',\n",
       " 'me',\n",
       " ':',\n",
       " 'Stand',\n",
       " '&',\n",
       " 'vnfold',\n",
       " 'your',\n",
       " 'selfe',\n",
       " 'Bar',\n",
       " '.',\n",
       " 'Long',\n",
       " 'liue',\n",
       " 'the',\n",
       " 'King',\n",
       " 'Fran',\n",
       " '.',\n",
       " 'Barnardo',\n",
       " '?']"
      ]
     },
     "execution_count": 12,
     "metadata": {},
     "output_type": "execute_result"
    }
   ],
   "source": [
    "shakespeare_tokens[:50]"
   ]
  },
  {
   "cell_type": "code",
   "execution_count": 25,
   "id": "9dbd4860-df8c-4875-835d-4edf266511d7",
   "metadata": {},
   "outputs": [],
   "source": [
    "shakespeare_tokens_words = [w.lower() for w in shakespeare_tokens]\n",
    "blake_poems_tokens_words = [w.lower() for w in blake_poems_tokens]"
   ]
  },
  {
   "cell_type": "code",
   "execution_count": 17,
   "id": "108dd1ab-1ea3-41d0-b90e-79fee1a0401a",
   "metadata": {},
   "outputs": [
    {
     "data": {
      "text/plain": [
       "['[',\n",
       " 'the',\n",
       " 'tragedie',\n",
       " 'of',\n",
       " 'hamlet',\n",
       " 'by',\n",
       " 'william',\n",
       " 'shakespeare',\n",
       " '1599',\n",
       " ']',\n",
       " 'actus',\n",
       " 'primus',\n",
       " '.',\n",
       " 'scoena',\n",
       " 'prima',\n",
       " '.',\n",
       " 'enter',\n",
       " 'barnardo',\n",
       " 'and',\n",
       " 'francisco',\n",
       " 'two',\n",
       " 'centinels',\n",
       " '.',\n",
       " 'barnardo',\n",
       " '.',\n",
       " 'who',\n",
       " \"'s\",\n",
       " 'there',\n",
       " '?',\n",
       " 'fran',\n",
       " '.',\n",
       " 'nay',\n",
       " 'answer',\n",
       " 'me',\n",
       " ':',\n",
       " 'stand',\n",
       " '&',\n",
       " 'vnfold',\n",
       " 'your',\n",
       " 'selfe',\n",
       " 'bar',\n",
       " '.',\n",
       " 'long',\n",
       " 'liue',\n",
       " 'the',\n",
       " 'king',\n",
       " 'fran',\n",
       " '.',\n",
       " 'barnardo',\n",
       " '?']"
      ]
     },
     "execution_count": 17,
     "metadata": {},
     "output_type": "execute_result"
    }
   ],
   "source": [
    "shakespeare_tokens_words[:50]\n",
    "\n",
    "len(shakespeare_tokens_words)"
   ]
  },
  {
   "cell_type": "code",
   "execution_count": 30,
   "id": "a054da4a-ca43-4ded-844b-98fddc02b61d",
   "metadata": {},
   "outputs": [
    {
     "data": {
      "text/plain": [
       "['[',\n",
       " 'poems',\n",
       " 'by',\n",
       " 'william',\n",
       " 'blake',\n",
       " '1789',\n",
       " ']',\n",
       " 'songs',\n",
       " 'of',\n",
       " 'innocence',\n",
       " 'and',\n",
       " 'of',\n",
       " 'experience',\n",
       " 'and',\n",
       " 'the',\n",
       " 'book',\n",
       " 'of',\n",
       " 'thel',\n",
       " 'songs',\n",
       " 'of',\n",
       " 'innocence',\n",
       " 'introduction',\n",
       " 'piping',\n",
       " 'down',\n",
       " 'the',\n",
       " 'valleys',\n",
       " 'wild',\n",
       " ',',\n",
       " 'piping',\n",
       " 'songs',\n",
       " 'of',\n",
       " 'pleasant',\n",
       " 'glee',\n",
       " ',',\n",
       " 'on',\n",
       " 'a',\n",
       " 'cloud',\n",
       " 'i',\n",
       " 'saw',\n",
       " 'a',\n",
       " 'child',\n",
       " ',',\n",
       " 'and',\n",
       " 'he',\n",
       " 'laughing',\n",
       " 'said',\n",
       " 'to',\n",
       " 'me',\n",
       " ':',\n",
       " '``']"
      ]
     },
     "execution_count": 30,
     "metadata": {},
     "output_type": "execute_result"
    }
   ],
   "source": [
    "len(blake_poems_tokens_words)\n",
    "blake_poems_tokens_words[:50]"
   ]
  },
  {
   "cell_type": "code",
   "execution_count": 118,
   "id": "56b85b31-92cf-4342-872a-c379acbcf6da",
   "metadata": {
    "scrolled": true
   },
   "outputs": [
    {
     "data": {
      "text/plain": [
       "['abstinence',\n",
       " 'abstracts',\n",
       " 'absurd',\n",
       " 'abus',\n",
       " 'abuse',\n",
       " 'abuses',\n",
       " 'accent',\n",
       " 'accepts',\n",
       " 'accesse',\n",
       " 'accident',\n",
       " 'accidentall',\n",
       " 'accord',\n",
       " 'according',\n",
       " 'account',\n",
       " 'accounted',\n",
       " 'accurst',\n",
       " 'accuse',\n",
       " 'acquaint',\n",
       " 'acquire',\n",
       " 'acquittance',\n",
       " 'act',\n",
       " 'acte',\n",
       " 'acted',\n",
       " 'acting',\n",
       " 'action',\n",
       " 'actions',\n",
       " 'actiuely',\n",
       " 'actor',\n",
       " 'actors',\n",
       " 'acts',\n",
       " 'actus',\n",
       " 'adaies',\n",
       " 'adam',\n",
       " 'adams',\n",
       " 'addicted',\n",
       " 'addition',\n",
       " 'addresse',\n",
       " 'adheres',\n",
       " 'adieu',\n",
       " 'adiew',\n",
       " 'adioyn',\n",
       " 'admirable',\n",
       " 'admiration',\n",
       " 'admit',\n",
       " 'admittance',\n",
       " 'adoption',\n",
       " 'adores',\n",
       " 'aduanc',\n",
       " 'aduancement',\n",
       " 'aduantage']"
      ]
     },
     "execution_count": 118,
     "metadata": {},
     "output_type": "execute_result"
    }
   ],
   "source": [
    "shakespeare_tokens_words_vocab = sorted(set(shakespeare_tokens_words))\n",
    "shakespeare_tokens_words_vocab [50:100]"
   ]
  },
  {
   "cell_type": "code",
   "execution_count": 119,
   "id": "4cf281e4-2836-4bae-8abc-84af6b941b35",
   "metadata": {},
   "outputs": [
    {
     "data": {
      "text/plain": [
       "['altar',\n",
       " 'always',\n",
       " 'am',\n",
       " 'ambush',\n",
       " 'among',\n",
       " 'an',\n",
       " 'ancient',\n",
       " 'and',\n",
       " 'angel',\n",
       " 'angel-guarded',\n",
       " 'angels',\n",
       " 'angry',\n",
       " 'annoy',\n",
       " 'another',\n",
       " 'answer',\n",
       " 'answerd',\n",
       " 'answered',\n",
       " 'anvil',\n",
       " 'anxious',\n",
       " 'any',\n",
       " 'appall',\n",
       " 'appals',\n",
       " 'apparel',\n",
       " 'appear',\n",
       " 'appeared',\n",
       " 'appears',\n",
       " 'appendix',\n",
       " 'apple',\n",
       " 'are',\n",
       " 'arise',\n",
       " 'arm',\n",
       " 'armed',\n",
       " 'arms',\n",
       " 'arose',\n",
       " 'around',\n",
       " 'arrow',\n",
       " 'arrows',\n",
       " 'art',\n",
       " 'artful',\n",
       " 'as',\n",
       " 'ask',\n",
       " 'asleep',\n",
       " 'aspire',\n",
       " 'astonish',\n",
       " 'at',\n",
       " 'author',\n",
       " 'away',\n",
       " 'awoke',\n",
       " 'babe',\n",
       " 'babes']"
      ]
     },
     "execution_count": 119,
     "metadata": {},
     "output_type": "execute_result"
    }
   ],
   "source": [
    "blake_poems_tokens_words_vocab = sorted(set(blake_poems_tokens_words))\n",
    "blake_poems_tokens_words_vocab[50:100]"
   ]
  },
  {
   "cell_type": "code",
   "execution_count": 39,
   "id": "3a75c7a0-7eb9-41ba-95ce-3069e77d7860",
   "metadata": {},
   "outputs": [],
   "source": [
    "from nltk import FreqDist"
   ]
  },
  {
   "cell_type": "code",
   "execution_count": 50,
   "id": "650a3aef-62fa-4c5a-a541-cc8c1792e92a",
   "metadata": {},
   "outputs": [],
   "source": [
    "fdist = FreqDist(blake_poems_tokens_words)\n",
    "fdistkeys = list(fdist.keys())"
   ]
  },
  {
   "cell_type": "code",
   "execution_count": 59,
   "id": "739039d7-88df-4acc-9a15-de222b5467d9",
   "metadata": {},
   "outputs": [],
   "source": [
    "fdist2 = FreqDist(shakespeare_tokens_words)\n",
    "fdistkeys2 = list(fdist2.keys())"
   ]
  },
  {
   "cell_type": "code",
   "execution_count": 53,
   "id": "2f77cce6-e05f-4182-ae66-81ac5ef9fbeb",
   "metadata": {},
   "outputs": [
    {
     "name": "stdout",
     "output_type": "stream",
     "text": [
      "(',', 685)\n",
      "('the', 439)\n",
      "('and', 348)\n",
      "('.', 221)\n",
      "('of', 146)\n",
      "('in', 141)\n",
      "('i', 130)\n",
      "('a', 127)\n",
      "('to', 111)\n",
      "(';', 99)\n",
      "('my', 83)\n",
      "(':', 76)\n",
      "('!', 68)\n",
      "('with', 66)\n",
      "('?', 65)\n",
      "('his', 57)\n",
      "('he', 56)\n",
      "('is', 52)\n",
      "('``', 50)\n",
      "(\"'s\", 48)\n",
      "('little', 45)\n",
      "('on', 44)\n",
      "('they', 44)\n",
      "('not', 43)\n",
      "('thee', 42)\n",
      "('that', 39)\n",
      "('all', 39)\n",
      "('but', 38)\n",
      "(\"''\", 35)\n",
      "('like', 35)\n",
      "('thou', 35)\n",
      "('me', 34)\n",
      "('their', 34)\n",
      "('her', 34)\n",
      "('from', 32)\n",
      "('for', 32)\n",
      "('can', 32)\n",
      "('thy', 31)\n",
      "('was', 31)\n",
      "('then', 30)\n",
      "('love', 29)\n",
      "('it', 29)\n",
      "('sweet', 28)\n",
      "('when', 28)\n",
      "('night', 28)\n",
      "('what', 26)\n",
      "('joy', 25)\n",
      "('be', 25)\n",
      "('are', 25)\n",
      "('where', 25)\n"
     ]
    }
   ],
   "source": [
    "topkeys_blake_poems = fdist.most_common(50)\n",
    "for pair in topkeys_blake_poems:\n",
    "    print(pair)"
   ]
  },
  {
   "cell_type": "code",
   "execution_count": 60,
   "id": "51e50206-ae02-4a1f-be3c-401ad2f6e056",
   "metadata": {},
   "outputs": [
    {
     "name": "stdout",
     "output_type": "stream",
     "text": [
      "(',', 2892)\n",
      "('.', 1879)\n",
      "('the', 993)\n",
      "('and', 862)\n",
      "('to', 683)\n",
      "('of', 610)\n",
      "(':', 566)\n",
      "('i', 560)\n",
      "('you', 527)\n",
      "('my', 502)\n",
      "('a', 497)\n",
      "('?', 459)\n",
      "('it', 419)\n",
      "('in', 388)\n",
      "('that', 376)\n",
      "('is', 372)\n",
      "('ham', 337)\n",
      "('not', 327)\n",
      "(';', 298)\n",
      "('his', 285)\n",
      "('this', 275)\n",
      "('with', 254)\n",
      "('your', 253)\n",
      "('but', 249)\n",
      "('for', 243)\n",
      "('me', 228)\n",
      "('what', 211)\n",
      "('lord', 211)\n",
      "('as', 205)\n",
      "('he', 202)\n",
      "(\"'d\", 200)\n",
      "('be', 191)\n",
      "('so', 189)\n",
      "('him', 178)\n",
      "('haue', 175)\n",
      "('king', 172)\n",
      "('will', 149)\n",
      "('no', 137)\n",
      "('our', 130)\n",
      "('we', 128)\n",
      "('on', 123)\n",
      "('are', 121)\n",
      "(\"'s\", 119)\n",
      "('if', 111)\n",
      "('all', 109)\n",
      "('then', 108)\n",
      "('shall', 107)\n",
      "('by', 105)\n",
      "('come', 104)\n",
      "('let', 104)\n"
     ]
    }
   ],
   "source": [
    "topkeys_shakespeares = fdist2.most_common(50)\n",
    "for pair2 in topkeys_shakespeares:\n",
    "    print(pair2)"
   ]
  },
  {
   "cell_type": "code",
   "execution_count": null,
   "id": "a47257f7-c62a-4e76-a4aa-41335dfe063a",
   "metadata": {},
   "outputs": [],
   "source": [
    "# Normalization"
   ]
  },
  {
   "cell_type": "code",
   "execution_count": 54,
   "id": "85eed7fd-84aa-4c1c-a25e-a9b55c528d59",
   "metadata": {},
   "outputs": [],
   "source": [
    "numwords = len(blake_poems_tokens_words)"
   ]
  },
  {
   "cell_type": "code",
   "execution_count": 61,
   "id": "de1be0a1-b6b5-48c0-83c6-abd553152554",
   "metadata": {},
   "outputs": [],
   "source": [
    "numwords2 = len(shakespeare_tokens_words)"
   ]
  },
  {
   "cell_type": "code",
   "execution_count": 58,
   "id": "bd5ddd51-bd73-4a53-bf35-b2940ddfbf64",
   "metadata": {},
   "outputs": [
    {
     "name": "stdout",
     "output_type": "stream",
     "text": [
      "(',', 8.314115790751304)\n",
      "('the', 5.328316543269814)\n",
      "('and', 4.223813569607962)\n",
      "('.', 2.682364364607355)\n",
      "('of', 1.7720597159849496)\n",
      "('in', 1.7113727394101226)\n",
      "('i', 1.5778613909455033)\n",
      "('a', 1.5414492050006068)\n",
      "('to', 1.3472508799611604)\n",
      "(';', 1.2016021361815754)\n",
      "('my', 1.0074038111421288)\n",
      "(':', 0.922442043937371)\n",
      "('!', 0.8253428814176478)\n",
      "('with', 0.801068090787717)\n",
      "('?', 0.7889306954727516)\n",
      "('his', 0.6918315329530282)\n",
      "('he', 0.6796941376380629)\n",
      "('is', 0.6311445563782012)\n",
      "('``', 0.6068697657482705)\n",
      "(\"'s\", 0.5825949751183396)\n",
      "('little', 0.5461827891734433)\n",
      "('on', 0.5340453938584779)\n",
      "('they', 0.5340453938584779)\n",
      "('not', 0.5219079985435126)\n",
      "('thee', 0.5097706032285472)\n",
      "('that', 0.4733584172836509)\n",
      "('all', 0.4733584172836509)\n",
      "('but', 0.4612210219686855)\n",
      "(\"''\", 0.4248088360237893)\n",
      "('like', 0.4248088360237893)\n",
      "('thou', 0.4248088360237893)\n",
      "('me', 0.4126714407088239)\n",
      "('their', 0.4126714407088239)\n",
      "('her', 0.4126714407088239)\n",
      "('from', 0.38839665007889307)\n",
      "('for', 0.38839665007889307)\n",
      "('can', 0.38839665007889307)\n",
      "('thy', 0.3762592547639277)\n",
      "('was', 0.3762592547639277)\n",
      "('then', 0.36412185944896225)\n",
      "('love', 0.35198446413399687)\n",
      "('it', 0.35198446413399687)\n",
      "('sweet', 0.33984706881903143)\n",
      "('when', 0.33984706881903143)\n",
      "('night', 0.33984706881903143)\n",
      "('what', 0.3155722781891006)\n",
      "('joy', 0.3034348828741352)\n",
      "('be', 0.3034348828741352)\n",
      "('are', 0.3034348828741352)\n",
      "('where', 0.3034348828741352)\n"
     ]
    }
   ],
   "source": [
    "topkeynormalized_blake = [(word,freq/numwords*100) for (word, freq) in topkeys_blake_poems]\n",
    "for pair in topkeynormalized_blake:\n",
    "    print(pair)"
   ]
  },
  {
   "cell_type": "code",
   "execution_count": 62,
   "id": "bfbd8ba9-1951-4fe5-8f40-c548daa0c17c",
   "metadata": {},
   "outputs": [
    {
     "name": "stdout",
     "output_type": "stream",
     "text": [
      "(',', 7.951171230616957)\n",
      "('.', 5.16606180578467)\n",
      "('the', 2.7301220719234576)\n",
      "('and', 2.369954910370615)\n",
      "('to', 1.8778181018365776)\n",
      "('of', 1.6771142637193446)\n",
      "(':', 1.5561420873199163)\n",
      "('i', 1.539645881447267)\n",
      "('you', 1.448916749147696)\n",
      "('my', 1.3801825580116573)\n",
      "('a', 1.3664357197844497)\n",
      "('?', 1.2619597492576706)\n",
      "('it', 1.151985043440009)\n",
      "('in', 1.0667546464313207)\n",
      "('that', 1.0337622346860222)\n",
      "('is', 1.022764764104256)\n",
      "('ham', 0.9265368965138018)\n",
      "('not', 0.8990432200593864)\n",
      "(';', 0.8193115583415814)\n",
      "('his', 0.7835697789508412)\n",
      "('this', 0.7560761024964258)\n",
      "('with', 0.6983393819421533)\n",
      "('your', 0.6955900142967117)\n",
      "('but', 0.6845925437149456)\n",
      "('for', 0.6680963378422963)\n",
      "('me', 0.6268558231606731)\n",
      "('what', 0.5801165731881667)\n",
      "('lord', 0.5801165731881667)\n",
      "('as', 0.5636203673155175)\n",
      "('he', 0.5553722643791928)\n",
      "(\"'d\", 0.5498735290883097)\n",
      "('be', 0.5251292202793358)\n",
      "('so', 0.5196304849884527)\n",
      "('him', 0.48938744088859565)\n",
      "('haue', 0.481139337952271)\n",
      "('king', 0.4728912350159463)\n",
      "('will', 0.4096557791707907)\n",
      "('no', 0.37666336742549217)\n",
      "('our', 0.3574177939074013)\n",
      "('we', 0.35191905861651823)\n",
      "('on', 0.33817222038931044)\n",
      "('are', 0.33267348509842737)\n",
      "(\"'s\", 0.32717474980754424)\n",
      "('if', 0.30517980864401184)\n",
      "('all', 0.29968107335312877)\n",
      "('then', 0.29693170570768723)\n",
      "('shall', 0.2941823380622457)\n",
      "('by', 0.28868360277136257)\n",
      "('come', 0.28593423512592103)\n",
      "('let', 0.28593423512592103)\n"
     ]
    }
   ],
   "source": [
    "topkeynormalized_shakespeare = [(word,freq/numwords2*100) for (word, freq) in topkeys_shakespeares]\n",
    "for pair2 in topkeynormalized_shakespeare:\n",
    "    print(pair2)"
   ]
  },
  {
   "cell_type": "code",
   "execution_count": 63,
   "id": "1080df49-4176-4943-a380-6053cddb5d86",
   "metadata": {},
   "outputs": [],
   "source": [
    "# List the top 50 bigrams by frequencies"
   ]
  },
  {
   "cell_type": "code",
   "execution_count": 65,
   "id": "9edb1039-a886-4525-b0c3-1525f3a503d0",
   "metadata": {},
   "outputs": [
    {
     "name": "stdout",
     "output_type": "stream",
     "text": [
      "[('[', 'the'), ('the', 'tragedie'), ('tragedie', 'of'), ('of', 'hamlet'), ('hamlet', 'by'), ('by', 'william'), ('william', 'shakespeare'), ('shakespeare', '1599'), ('1599', ']'), (']', 'actus'), ('actus', 'primus'), ('primus', '.'), ('.', 'scoena'), ('scoena', 'prima'), ('prima', '.'), ('.', 'enter'), ('enter', 'barnardo'), ('barnardo', 'and'), ('and', 'francisco'), ('francisco', 'two'), ('two', 'centinels'), ('centinels', '.'), ('.', 'barnardo'), ('barnardo', '.'), ('.', 'who'), ('who', \"'s\"), (\"'s\", 'there'), ('there', '?'), ('?', 'fran'), ('fran', '.'), ('.', 'nay'), ('nay', 'answer'), ('answer', 'me'), ('me', ':'), (':', 'stand'), ('stand', '&'), ('&', 'vnfold'), ('vnfold', 'your'), ('your', 'selfe'), ('selfe', 'bar'), ('bar', '.'), ('.', 'long'), ('long', 'liue'), ('liue', 'the'), ('the', 'king'), ('king', 'fran'), ('fran', '.'), ('.', 'barnardo'), ('barnardo', '?'), ('?', 'bar')]\n"
     ]
    }
   ],
   "source": [
    "shakespeare_tokens_words_bigrams = list(nltk.bigrams(shakespeare_tokens_words))\n",
    "print(shakespeare_tokens_words_bigrams[:50])"
   ]
  },
  {
   "cell_type": "code",
   "execution_count": 66,
   "id": "7ed6bdf6-13e3-4a92-b77e-54d91ed816e8",
   "metadata": {},
   "outputs": [
    {
     "name": "stdout",
     "output_type": "stream",
     "text": [
      "[('[', 'poems'), ('poems', 'by'), ('by', 'william'), ('william', 'blake'), ('blake', '1789'), ('1789', ']'), (']', 'songs'), ('songs', 'of'), ('of', 'innocence'), ('innocence', 'and'), ('and', 'of'), ('of', 'experience'), ('experience', 'and'), ('and', 'the'), ('the', 'book'), ('book', 'of'), ('of', 'thel'), ('thel', 'songs'), ('songs', 'of'), ('of', 'innocence'), ('innocence', 'introduction'), ('introduction', 'piping'), ('piping', 'down'), ('down', 'the'), ('the', 'valleys'), ('valleys', 'wild'), ('wild', ','), (',', 'piping'), ('piping', 'songs'), ('songs', 'of'), ('of', 'pleasant'), ('pleasant', 'glee'), ('glee', ','), (',', 'on'), ('on', 'a'), ('a', 'cloud'), ('cloud', 'i'), ('i', 'saw'), ('saw', 'a'), ('a', 'child'), ('child', ','), (',', 'and'), ('and', 'he'), ('he', 'laughing'), ('laughing', 'said'), ('said', 'to'), ('to', 'me'), ('me', ':'), (':', '``'), ('``', 'pipe')]\n"
     ]
    }
   ],
   "source": [
    "blake_poems_tokens_words_bigrams = list(nltk.bigrams(blake_poems_tokens_words))\n",
    "print(blake_poems_tokens_words_bigrams[:50])"
   ]
  },
  {
   "cell_type": "code",
   "execution_count": null,
   "id": "7050f417-7550-4d60-a467-a84af51431bb",
   "metadata": {},
   "outputs": [],
   "source": [
    "# Use Mutual Information Score for Bigrams"
   ]
  },
  {
   "cell_type": "code",
   "execution_count": 70,
   "id": "3991ab99-2538-4976-b73b-ced68dd88f86",
   "metadata": {},
   "outputs": [],
   "source": [
    "from nltk.collocations import*\n",
    "bigram_measures = nltk.collocations.BigramAssocMeasures()"
   ]
  },
  {
   "cell_type": "code",
   "execution_count": 120,
   "id": "bebd5d48-6914-40d2-8efb-04f22557fa30",
   "metadata": {},
   "outputs": [
    {
     "name": "stdout",
     "output_type": "stream",
     "text": [
      "(('1789', ']'), 13.008253527096048)\n",
      "(('[', 'poems'), 13.008253527096048)\n",
      "(('artful', 'teazing'), 13.008253527096048)\n",
      "(('bladder', 'swell'), 13.008253527096048)\n",
      "(('blushed', 'rosy'), 13.008253527096048)\n",
      "(('brook', 'warbled'), 13.008253527096048)\n",
      "(('butterfly', 'scarce'), 13.008253527096048)\n",
      "(('chimney', 'sweeper'), 13.008253527096048)\n",
      "(('contagious', 'taints'), 13.008253527096048)\n",
      "(('creation', 'slept'), 13.008253527096048)\n",
      "(('dame', 'lurch'), 13.008253527096048)\n",
      "(('dangerous', 'world'), 13.008253527096048)\n",
      "(('deadly', 'terrors'), 13.008253527096048)\n",
      "(('deceitful', 'wiles'), 13.008253527096048)\n",
      "(('draw', 'creations'), 13.008253527096048)\n",
      "(('dreary', 'shower'), 13.008253527096048)\n",
      "(('endless', 'maze'), 13.008253527096048)\n",
      "(('eyelids', 'stord'), 13.008253527096048)\n",
      "(('faces', 'clean'), 13.008253527096048)\n",
      "(('fair', 'eyed'), 13.008253527096048)\n",
      "(('false', 'self-deceiving'), 13.008253527096048)\n",
      "(('fiery', 'forge'), 13.008253527096048)\n",
      "(('fire-breathing', 'steed'), 13.008253527096048)\n",
      "(('gilded', 'butterfly'), 13.008253527096048)\n",
      "(('graces', 'showring'), 13.008253527096048)\n",
      "(('greater', 'than'), 13.008253527096048)\n",
      "(('grey-headed', 'beadles'), 13.008253527096048)\n",
      "(('hapless', 'soldier'), 13.008253527096048)\n",
      "(('harmonious', 'thunderings'), 13.008253527096048)\n",
      "(('howling', 'storm'), 13.008253527096048)\n"
     ]
    }
   ],
   "source": [
    "finder_blake = BigramCollocationFinder.from_words(blake_poems_tokens_words)\n",
    "scored = finder_blake.score_ngrams(bigram_measures.pmi)\n",
    "for bsscore in scored[:30]:\n",
    "    print(bsscore)"
   ]
  },
  {
   "cell_type": "code",
   "execution_count": 121,
   "id": "a82be125-36c6-49b2-922f-5ca622467493",
   "metadata": {},
   "outputs": [
    {
     "name": "stdout",
     "output_type": "stream",
     "text": [
      "(('1789', ']'), 13.008253527096048)\n",
      "(('[', 'poems'), 13.008253527096048)\n",
      "(('artful', 'teazing'), 13.008253527096048)\n",
      "(('bladder', 'swell'), 13.008253527096048)\n",
      "(('blushed', 'rosy'), 13.008253527096048)\n",
      "(('brook', 'warbled'), 13.008253527096048)\n",
      "(('butterfly', 'scarce'), 13.008253527096048)\n",
      "(('chimney', 'sweeper'), 13.008253527096048)\n",
      "(('contagious', 'taints'), 13.008253527096048)\n",
      "(('creation', 'slept'), 13.008253527096048)\n",
      "(('dame', 'lurch'), 13.008253527096048)\n",
      "(('dangerous', 'world'), 13.008253527096048)\n",
      "(('deadly', 'terrors'), 13.008253527096048)\n",
      "(('deceitful', 'wiles'), 13.008253527096048)\n",
      "(('draw', 'creations'), 13.008253527096048)\n",
      "(('dreary', 'shower'), 13.008253527096048)\n",
      "(('endless', 'maze'), 13.008253527096048)\n",
      "(('eyelids', 'stord'), 13.008253527096048)\n",
      "(('faces', 'clean'), 13.008253527096048)\n",
      "(('fair', 'eyed'), 13.008253527096048)\n",
      "(('false', 'self-deceiving'), 13.008253527096048)\n",
      "(('fiery', 'forge'), 13.008253527096048)\n",
      "(('fire-breathing', 'steed'), 13.008253527096048)\n",
      "(('gilded', 'butterfly'), 13.008253527096048)\n",
      "(('graces', 'showring'), 13.008253527096048)\n",
      "(('greater', 'than'), 13.008253527096048)\n",
      "(('grey-headed', 'beadles'), 13.008253527096048)\n",
      "(('hapless', 'soldier'), 13.008253527096048)\n",
      "(('harmonious', 'thunderings'), 13.008253527096048)\n",
      "(('howling', 'storm'), 13.008253527096048)\n"
     ]
    }
   ],
   "source": [
    "finder_ = BigramCollocationFinder.from_words(blake_poems_tokens_words)\n",
    "scored = finder_blake.score_ngrams(bigram_measures.pmi)\n",
    "for bsscore in scored[:30]:\n",
    "    print(bsscore)"
   ]
  },
  {
   "cell_type": "code",
   "execution_count": 126,
   "id": "eb050c23-d743-462f-aa26-93d436bf28b6",
   "metadata": {},
   "outputs": [],
   "source": [
    "# Removing 'stopwords'"
   ]
  },
  {
   "cell_type": "code",
   "execution_count": 127,
   "id": "e3bddf46-6cd6-4d4d-a07f-950060b88aa2",
   "metadata": {},
   "outputs": [
    {
     "name": "stderr",
     "output_type": "stream",
     "text": [
      "[nltk_data] Downloading package stopwords to\n",
      "[nltk_data]     C:\\Users\\shubham\\AppData\\Roaming\\nltk_data...\n",
      "[nltk_data]   Package stopwords is already up-to-date!\n"
     ]
    },
    {
     "data": {
      "text/plain": [
       "True"
      ]
     },
     "execution_count": 127,
     "metadata": {},
     "output_type": "execute_result"
    }
   ],
   "source": [
    "nltk.download('stopwords')"
   ]
  },
  {
   "cell_type": "code",
   "execution_count": 128,
   "id": "ddc98864-6056-4f48-a548-b48d6906603a",
   "metadata": {},
   "outputs": [
    {
     "name": "stdout",
     "output_type": "stream",
     "text": [
      "(('.', \"''\"), 0.002427479062993082)\n",
      "(('.', '``'), 0.0020633572035441195)\n",
      "(('lamb', ','), 0.001213739531496541)\n",
      "(('love', ','), 0.001213739531496541)\n",
      "(('night', ','), 0.001213739531496541)\n",
      "(('sleep', ','), 0.001213739531496541)\n",
      "(('!', \"''\"), 0.0010923655783468867)\n",
      "((',', 'like'), 0.0010923655783468867)\n",
      "(('day', ','), 0.0010923655783468867)\n",
      "(('father', ','), 0.0009709916251972327)\n",
      "(('delight', ','), 0.0008496176720475786)\n",
      "(('little', 'boy'), 0.0008496176720475786)\n",
      "(('little', 'lamb'), 0.0008496176720475786)\n",
      "(('peace', ','), 0.0008496176720475786)\n",
      "(('thee', '?'), 0.0008496176720475786)\n",
      "(('!', 'sweet'), 0.0007282437188979245)\n",
      "((',', 'till'), 0.0007282437188979245)\n",
      "((':', '``'), 0.0007282437188979245)\n",
      "(('?', '``'), 0.0007282437188979245)\n",
      "(('away', ','), 0.0007282437188979245)\n",
      "(('deep', ','), 0.0007282437188979245)\n",
      "(('joy', ','), 0.0007282437188979245)\n",
      "(('merrily', ','), 0.0007282437188979245)\n",
      "(('pity', ','), 0.0007282437188979245)\n",
      "(('thee', ','), 0.0007282437188979245)\n",
      "(('voice', ','), 0.0007282437188979245)\n",
      "(('weep', '!'), 0.0007282437188979245)\n",
      "(('weep', '.'), 0.0007282437188979245)\n",
      "(('!', 'never'), 0.0006068697657482705)\n",
      "((',', '--'), 0.0006068697657482705)\n"
     ]
    },
    {
     "name": "stderr",
     "output_type": "stream",
     "text": [
      "[nltk_data] Downloading package stopwords to\n",
      "[nltk_data]     C:\\Users\\shubham\\AppData\\Roaming\\nltk_data...\n",
      "[nltk_data]   Package stopwords is already up-to-date!\n"
     ]
    }
   ],
   "source": [
    "from nltk.corpus import stopwords\n",
    "from nltk.collocations import BigramCollocationFinder\n",
    "from nltk.metrics import BigramAssocMeasures\n",
    "\n",
    "nltk.download('stopwords')\n",
    "\n",
    "english_stopwords = set(stopwords.words('english'))\n",
    "\n",
    "finder_blake.apply_word_filter(lambda w: w.lower() in english_stopwords)\n",
    "scored = finder_blake.score_ngrams(BigramAssocMeasures.raw_freq)\n",
    "for bscore in scored[:30]:\n",
    "    print(bscore)  \n"
   ]
  },
  {
   "cell_type": "code",
   "execution_count": 130,
   "id": "0ae2c42f-0531-4940-8080-704e4a20b71f",
   "metadata": {},
   "outputs": [
    {
     "name": "stdout",
     "output_type": "stream",
     "text": [
      "(('ham', '.'), 0.009265368965138018)\n",
      "(('king', '.'), 0.0026393929396238865)\n",
      "(('hor', '.'), 0.002611899263169471)\n",
      "(('.', 'enter'), 0.0020070383811723303)\n",
      "(('lord', ','), 0.0020070383811723303)\n",
      "(('?', 'ham'), 0.00170460794017376)\n",
      "(('qu', '.'), 0.00170460794017376)\n",
      "(('laer', '.'), 0.001649620587264929)\n",
      "(('ophe', '.'), 0.001539645881447267)\n",
      "(('.', 'oh'), 0.0013471901462663587)\n",
      "(('pol', '.'), 0.0013471901462663587)\n",
      "(('lord', 'ham'), 0.0012097217639942812)\n",
      "(('rosin', '.'), 0.0011822280875398658)\n",
      "((\"'d\", ','), 0.001072253381722204)\n",
      "(('polon', '.'), 0.0010447597052677883)\n",
      "(('lord', '?'), 0.000907291322995711)\n",
      "(('sir', ','), 0.000907291322995711)\n",
      "(('th', \"'\"), 0.000907291322995711)\n",
      "(('mar', '.'), 0.00085230397008688)\n",
      "(('?', 'hor'), 0.0008248102936324645)\n",
      "(('clo', '.'), 0.0007973166171780491)\n",
      "(('king', ','), 0.0007698229407236335)\n",
      "(('come', ','), 0.0007423292642692181)\n",
      "(('hamlet', ','), 0.0007423292642692181)\n",
      "(('.', 'come'), 0.0006873419113603871)\n",
      "((\"'\", 'l'), 0.0006323545584515562)\n",
      "((',', 'ile'), 0.0006323545584515562)\n",
      "((',', 'let'), 0.0006048608819971406)\n",
      "(('.', 'exeunt'), 0.0006048608819971406)\n",
      "(('.', 'ham'), 0.0006048608819971406)\n"
     ]
    }
   ],
   "source": [
    "finder_shakespeare.apply_word_filter(lambda w: w.lower() in english_stopwords)\n",
    "scored2 = finder_shakespeare.score_ngrams(BigramAssocMeasures.raw_freq)\n",
    "for bscore in scored2[:30]:\n",
    "    print(bscore)  "
   ]
  },
  {
   "cell_type": "code",
   "execution_count": 129,
   "id": "ff58446f-dd13-4998-98ab-456216018bbd",
   "metadata": {},
   "outputs": [
    {
     "name": "stdout",
     "output_type": "stream",
     "text": [
      "(('1789', ']'), 13.008253527096048)\n",
      "(('[', 'poems'), 13.008253527096048)\n",
      "(('artful', 'teazing'), 13.008253527096048)\n",
      "(('bladder', 'swell'), 13.008253527096048)\n",
      "(('blushed', 'rosy'), 13.008253527096048)\n",
      "(('brook', 'warbled'), 13.008253527096048)\n",
      "(('butterfly', 'scarce'), 13.008253527096048)\n",
      "(('chimney', 'sweeper'), 13.008253527096048)\n",
      "(('contagious', 'taints'), 13.008253527096048)\n",
      "(('creation', 'slept'), 13.008253527096048)\n",
      "(('dame', 'lurch'), 13.008253527096048)\n",
      "(('dangerous', 'world'), 13.008253527096048)\n",
      "(('deadly', 'terrors'), 13.008253527096048)\n",
      "(('deceitful', 'wiles'), 13.008253527096048)\n",
      "(('draw', 'creations'), 13.008253527096048)\n",
      "(('dreary', 'shower'), 13.008253527096048)\n",
      "(('endless', 'maze'), 13.008253527096048)\n",
      "(('eyelids', 'stord'), 13.008253527096048)\n",
      "(('faces', 'clean'), 13.008253527096048)\n",
      "(('fair', 'eyed'), 13.008253527096048)\n",
      "(('false', 'self-deceiving'), 13.008253527096048)\n",
      "(('fiery', 'forge'), 13.008253527096048)\n",
      "(('fire-breathing', 'steed'), 13.008253527096048)\n",
      "(('gilded', 'butterfly'), 13.008253527096048)\n",
      "(('graces', 'showring'), 13.008253527096048)\n",
      "(('grey-headed', 'beadles'), 13.008253527096048)\n",
      "(('hapless', 'soldier'), 13.008253527096048)\n",
      "(('harmonious', 'thunderings'), 13.008253527096048)\n",
      "(('howling', 'storm'), 13.008253527096048)\n",
      "(('humility', 'takes'), 13.008253527096048)\n"
     ]
    }
   ],
   "source": [
    "finder_shakespeare = BigramCollocationFinder.from_words(shakespeare_tokens_words)\n",
    "scored2 = finder_blake.score_ngrams(bigram_measures.pmi)\n",
    "for bsscore2 in scored2[:30]:\n",
    "    print(bsscore2)"
   ]
  },
  {
   "cell_type": "code",
   "execution_count": null,
   "id": "6b9e6d1c-9360-4b39-b2bb-20c6183345b5",
   "metadata": {},
   "outputs": [],
   "source": [
    "# Finding PMI after removing stopwords."
   ]
  },
  {
   "cell_type": "code",
   "execution_count": 131,
   "id": "d4816333-23d4-4d61-8f86-8d479a460ac7",
   "metadata": {},
   "outputs": [
    {
     "name": "stdout",
     "output_type": "stream",
     "text": [
      "(('1789', ']'), 13.008253527096048)\n",
      "(('[', 'poems'), 13.008253527096048)\n",
      "(('artful', 'teazing'), 13.008253527096048)\n",
      "(('bladder', 'swell'), 13.008253527096048)\n",
      "(('blushed', 'rosy'), 13.008253527096048)\n",
      "(('brook', 'warbled'), 13.008253527096048)\n",
      "(('butterfly', 'scarce'), 13.008253527096048)\n",
      "(('chimney', 'sweeper'), 13.008253527096048)\n",
      "(('contagious', 'taints'), 13.008253527096048)\n",
      "(('creation', 'slept'), 13.008253527096048)\n",
      "(('dame', 'lurch'), 13.008253527096048)\n",
      "(('dangerous', 'world'), 13.008253527096048)\n",
      "(('deadly', 'terrors'), 13.008253527096048)\n",
      "(('deceitful', 'wiles'), 13.008253527096048)\n",
      "(('draw', 'creations'), 13.008253527096048)\n",
      "(('dreary', 'shower'), 13.008253527096048)\n",
      "(('endless', 'maze'), 13.008253527096048)\n",
      "(('eyelids', 'stord'), 13.008253527096048)\n",
      "(('faces', 'clean'), 13.008253527096048)\n",
      "(('fair', 'eyed'), 13.008253527096048)\n",
      "(('false', 'self-deceiving'), 13.008253527096048)\n",
      "(('fiery', 'forge'), 13.008253527096048)\n",
      "(('fire-breathing', 'steed'), 13.008253527096048)\n",
      "(('gilded', 'butterfly'), 13.008253527096048)\n",
      "(('graces', 'showring'), 13.008253527096048)\n",
      "(('grey-headed', 'beadles'), 13.008253527096048)\n",
      "(('hapless', 'soldier'), 13.008253527096048)\n",
      "(('harmonious', 'thunderings'), 13.008253527096048)\n",
      "(('howling', 'storm'), 13.008253527096048)\n",
      "(('humility', 'takes'), 13.008253527096048)\n"
     ]
    }
   ],
   "source": [
    "finder_shakespeare.apply_freq_filter(5)\n",
    "finder_shakespeare = BigramCollocationFinder.from_words(shakespeare_tokens_words)\n",
    "scored2 = finder_blake.score_ngrams(bigram_measures.pmi)\n",
    "for bsscore2 in scored2[:30]:\n",
    "    print(bsscore2)"
   ]
  },
  {
   "cell_type": "code",
   "execution_count": 132,
   "id": "9f136c84-b74e-4615-a9b1-ee39c909b9f3",
   "metadata": {},
   "outputs": [
    {
     "name": "stdout",
     "output_type": "stream",
     "text": [
      "(('1789', ']'), 13.008253527096048)\n",
      "(('[', 'poems'), 13.008253527096048)\n",
      "(('artful', 'teazing'), 13.008253527096048)\n",
      "(('bladder', 'swell'), 13.008253527096048)\n",
      "(('blushed', 'rosy'), 13.008253527096048)\n",
      "(('brook', 'warbled'), 13.008253527096048)\n",
      "(('butterfly', 'scarce'), 13.008253527096048)\n",
      "(('chimney', 'sweeper'), 13.008253527096048)\n",
      "(('contagious', 'taints'), 13.008253527096048)\n",
      "(('creation', 'slept'), 13.008253527096048)\n",
      "(('dame', 'lurch'), 13.008253527096048)\n",
      "(('dangerous', 'world'), 13.008253527096048)\n",
      "(('deadly', 'terrors'), 13.008253527096048)\n",
      "(('deceitful', 'wiles'), 13.008253527096048)\n",
      "(('draw', 'creations'), 13.008253527096048)\n",
      "(('dreary', 'shower'), 13.008253527096048)\n",
      "(('endless', 'maze'), 13.008253527096048)\n",
      "(('eyelids', 'stord'), 13.008253527096048)\n",
      "(('faces', 'clean'), 13.008253527096048)\n",
      "(('fair', 'eyed'), 13.008253527096048)\n",
      "(('false', 'self-deceiving'), 13.008253527096048)\n",
      "(('fiery', 'forge'), 13.008253527096048)\n",
      "(('fire-breathing', 'steed'), 13.008253527096048)\n",
      "(('gilded', 'butterfly'), 13.008253527096048)\n",
      "(('graces', 'showring'), 13.008253527096048)\n",
      "(('greater', 'than'), 13.008253527096048)\n",
      "(('grey-headed', 'beadles'), 13.008253527096048)\n",
      "(('hapless', 'soldier'), 13.008253527096048)\n",
      "(('harmonious', 'thunderings'), 13.008253527096048)\n",
      "(('howling', 'storm'), 13.008253527096048)\n"
     ]
    }
   ],
   "source": [
    "finder_blake.apply_freq_filter(5)\n",
    "finder_blake = BigramCollocationFinder.from_words(blake_poems_tokens_words)\n",
    "scored = finder_blake.score_ngrams(bigram_measures.pmi)\n",
    "for bsscore in scored[:30]:\n",
    "    print(bsscore)"
   ]
  },
  {
   "cell_type": "code",
   "execution_count": 133,
   "id": "2d13456d-5379-4f82-9d58-8c043e8fb027",
   "metadata": {},
   "outputs": [
    {
     "name": "stderr",
     "output_type": "stream",
     "text": [
      "[nltk_data] Downloading package wordnet to\n",
      "[nltk_data]     C:\\Users\\shubham\\AppData\\Roaming\\nltk_data...\n",
      "[nltk_data]   Package wordnet is already up-to-date!\n"
     ]
    },
    {
     "name": "stdout",
     "output_type": "stream",
     "text": [
      "['[', 'poem', 'by', 'william', 'blake', '1789', ']', 'song', 'of', 'innocence', 'and', 'of', 'experience', 'and', 'the', 'book', 'of', 'thel', 'song', 'of', 'innocence', 'introduction', 'piping', 'down', 'the', 'valley', 'wild', ',', 'piping', 'song', 'of', 'pleasant', 'glee', ',', 'on', 'a', 'cloud', 'i', 'saw', 'a', 'child', ',', 'and', 'he', 'laughing', 'said', 'to', 'me', ':', '``']\n",
      "['[', 'the', 'tragedie', 'of', 'hamlet', 'by', 'william', 'shakespeare', '1599', ']', 'actus', 'primus', '.', 'scoena', 'prima', '.', 'enter', 'barnardo', 'and', 'francisco', 'two', 'centinels', '.', 'barnardo', '.', 'who', \"'s\", 'there', '?', 'fran', '.', 'nay', 'answer', 'me', ':', 'stand', '&', 'vnfold', 'your', 'selfe', 'bar', '.', 'long', 'liue', 'the', 'king', 'fran', '.', 'barnardo', '?']\n"
     ]
    }
   ],
   "source": [
    "# Apply Lemmatization\n",
    "from nltk.stem import WordNetLemmatizer\n",
    "nltk.download('wordnet')\n",
    "lemmatizer = WordNetLemmatizer()\n",
    "\n",
    "lemmatized_blake_poems_tokens_words = [lemmatizer.lemmatize(word) for word in blake_poems_tokens_words]\n",
    "print(lemmatized_blake_poems_tokens_words[:50])\n",
    "\n",
    "lemmatized_shakespeare_tokens_words = [lemmatizer.lemmatize(word) for word in shakespeare_tokens_words]\n",
    "print(lemmatized_shakespeare_tokens_words[:50])"
   ]
  },
  {
   "cell_type": "code",
   "execution_count": null,
   "id": "4b6ddadc-3d44-4204-9305-6cfd5be06942",
   "metadata": {},
   "outputs": [],
   "source": [
    "# Checking mutual information score after Lemmatization step"
   ]
  },
  {
   "cell_type": "code",
   "execution_count": 135,
   "id": "24bb8dc5-3739-451c-964e-f4ddd604cbbd",
   "metadata": {},
   "outputs": [
    {
     "name": "stdout",
     "output_type": "stream",
     "text": [
      "(('1789', ']'), 13.008253527096048)\n",
      "(('[', 'poem'), 13.008253527096048)\n",
      "(('artful', 'teazing'), 13.008253527096048)\n",
      "(('bladder', 'swell'), 13.008253527096048)\n",
      "(('blushed', 'rosy'), 13.008253527096048)\n",
      "(('butterfly', 'scarce'), 13.008253527096048)\n",
      "(('contagious', 'taint'), 13.008253527096048)\n",
      "(('dame', 'lurch'), 13.008253527096048)\n",
      "(('deceitful', 'wile'), 13.008253527096048)\n",
      "(('dreary', 'shower'), 13.008253527096048)\n",
      "(('endless', 'maze'), 13.008253527096048)\n",
      "(('eyelid', 'stord'), 13.008253527096048)\n",
      "(('fair', 'eyed'), 13.008253527096048)\n",
      "(('false', 'self-deceiving'), 13.008253527096048)\n",
      "(('fiery', 'forge'), 13.008253527096048)\n",
      "(('gilded', 'butterfly'), 13.008253527096048)\n",
      "(('grace', 'showring'), 13.008253527096048)\n",
      "(('greater', 'than'), 13.008253527096048)\n",
      "(('grey-headed', 'beadle'), 13.008253527096048)\n",
      "(('hapless', 'soldier'), 13.008253527096048)\n",
      "(('harmonious', 'thunderings'), 13.008253527096048)\n",
      "(('howling', 'storm'), 13.008253527096048)\n",
      "(('hungry', 'gorge'), 13.008253527096048)\n",
      "(('indignant', 'page'), 13.008253527096048)\n",
      "(('just', 'removed'), 13.008253527096048)\n",
      "(('kind', 'relief'), 13.008253527096048)\n",
      "(('lead', 'others'), 13.008253527096048)\n",
      "(('left', 'behind'), 13.008253527096048)\n",
      "(('lioness', 'loosed'), 13.008253527096048)\n",
      "(('milked', 'cow'), 13.008253527096048)\n"
     ]
    }
   ],
   "source": [
    "finder_blake.apply_freq_filter(5)\n",
    "finder_blake = BigramCollocationFinder.from_words(lemmatized_blake_poems_tokens_words)\n",
    "scored = finder_blake.score_ngrams(bigram_measures.pmi)\n",
    "for bsscore in scored[:30]:\n",
    "    print(bsscore)"
   ]
  },
  {
   "cell_type": "code",
   "execution_count": 136,
   "id": "7329bd82-4f10-43e4-b503-e6095dfa8dfb",
   "metadata": {},
   "outputs": [
    {
     "name": "stdout",
     "output_type": "stream",
     "text": [
      "(('adoption', 'tride'), 15.150540637505486)\n",
      "(('aduenturous', 'knight'), 15.150540637505486)\n",
      "(('angry', 'parle'), 15.150540637505486)\n",
      "(('anothers', 'heele'), 15.150540637505486)\n",
      "(('antike', 'roman'), 15.150540637505486)\n",
      "(('aygre', 'droppings'), 15.150540637505486)\n",
      "(('barren', 'spectator'), 15.150540637505486)\n",
      "(('bel', 'iangled'), 15.150540637505486)\n",
      "(('bisson', 'rheume'), 15.150540637505486)\n",
      "(('bite', 'shrewdly'), 15.150540637505486)\n",
      "(('blanke', 'verse'), 15.150540637505486)\n",
      "(('blew', 'olympus'), 15.150540637505486)\n",
      "(('bodilesse', 'creation'), 15.150540637505486)\n",
      "(('borrowed', 'sheene'), 15.150540637505486)\n",
      "(('borrowing', 'duls'), 15.150540637505486)\n",
      "(('boystrous', 'ruine'), 15.150540637505486)\n",
      "(('caines', 'iaw-bone'), 15.150540637505486)\n",
      "(('calumnious', 'stroakes'), 15.150540637505486)\n",
      "(('carrying', 'torch'), 15.150540637505486)\n",
      "(('cart', 'gon'), 15.150540637505486)\n",
      "(('chaste', 'vnsmirched'), 15.150540637505486)\n",
      "(('chaunted', 'snatch'), 15.150540637505486)\n",
      "(('churchyard', 'yawne'), 15.150540637505486)\n",
      "(('coagulate', 'gore'), 15.150540637505486)\n",
      "(('comma', \"'tweene\"), 15.150540637505486)\n",
      "(('companion', 'noted'), 15.150540637505486)\n",
      "(('compelled', 'valour'), 15.150540637505486)\n",
      "(('compulsiue', 'ardure'), 15.150540637505486)\n",
      "(('consummation', 'deuoutly'), 15.150540637505486)\n",
      "(('contagious', 'blastments'), 15.150540637505486)\n"
     ]
    }
   ],
   "source": [
    "finder_shakespeare.apply_freq_filter(5)\n",
    "finder_shakespeare = BigramCollocationFinder.from_words(lemmatized_shakespeare_tokens_words)\n",
    "scored = finder_shakespeare.score_ngrams(bigram_measures.pmi)\n",
    "for bsscore in scored[:30]:\n",
    "    print(bsscore)"
   ]
  },
  {
   "cell_type": "code",
   "execution_count": null,
   "id": "42eda335-7083-440a-afa0-380536305d6c",
   "metadata": {},
   "outputs": [],
   "source": [
    "# Trigrams to know more about text"
   ]
  },
  {
   "cell_type": "code",
   "execution_count": 106,
   "id": "d8ea33c9-694d-4254-9509-cde3654f7c13",
   "metadata": {},
   "outputs": [
    {
     "name": "stdout",
     "output_type": "stream",
     "text": [
      "(('wee', \"'\", 'l'), 18.702312974764784)\n",
      "(('let', 'me', 'see'), 12.99165821319436)\n",
      "(('you', \"'\", 'l'), 12.604070294761204)\n",
      "(('i', 'haue', 'seene'), 11.983621552067468)\n",
      "(('exeunt', '.', 'enter'), 11.814307126283563)\n",
      "(('to', 'th', \"'\"), 11.77055605947103)\n",
      "(('.', 'enter', 'polonius'), 11.694012892565851)\n",
      "(('my', 'lord', 'polon'), 11.134077627510752)\n",
      "(('enter', 'polonius', '.'), 11.015940987453213)\n",
      "(('i', 'pray', 'you'), 10.907746685092341)\n",
      "(('good', 'my', 'lord'), 10.76729529683913)\n",
      "(('my', 'lord', 'ham'), 10.535597442332957)\n",
      "(('a', 'kinde', 'of'), 10.455585098506226)\n",
      "((',', 'th', \"'\"), 10.173872817980246)\n",
      "(('i', 'can', 'not'), 10.057839096447346)\n",
      "(('.', 'enter', 'horatio'), 10.015940987453213)\n",
      "(('my', 'good', 'lord'), 9.959940374781524)\n",
      "(('?', 'clo', '.'), 9.894925586491844)\n",
      "(('lord', '?', 'ham'), 9.830800604308845)\n",
      "(('father', 'death', ','), 9.825949514559937)\n",
      "(('if', 'it', 'be'), 9.80339264764692)\n",
      "(('well', 'my', 'lord'), 9.767295296839126)\n",
      "(('.', 'enter', 'hamlet'), 9.596402095939428)\n",
      "(('good', 'friend', ','), 9.556251378445133)\n",
      "((\"'t\", 'is', 'a'), 9.545782907477804)\n",
      "(('my', 'lord', '?'), 9.539654797540528)\n",
      "(('lord', '.', 'exeunt'), 9.468810560257797)\n",
      "(('qu', '.', 'oh'), 9.453213705206778)\n",
      "(('.', 'how', 'now'), 9.426036536567505)\n",
      "(('lord', 'polon', '.'), 9.422516907983862)\n",
      "(('.', 'there', \"'s\"), 9.328880299113322)\n",
      "(('ham', '.', 'nay'), 9.328287424267966)\n",
      "(('?', 'rosin', '.'), 9.32664182691732)\n",
      "(('you', 'can', 'not'), 9.29746605520015)\n",
      "(('i', 'know', 'not'), 9.29508947651091)\n",
      "(('?', 'ophe', '.'), 9.097554753006868)\n",
      "(('ham', '.', 'why'), 9.028727142409057)\n",
      "((':', \"'t\", 'is'), 9.008454978395534)\n",
      "(('.', \"'t\", 'is'), 8.955435774919998)\n",
      "(('?', 'hor', '.'), 8.920016567454677)\n",
      "(('.', 'enter', 'king'), 8.846015986010901)\n",
      "(('?', 'osr', '.'), 8.734984673622158)\n",
      "(('lord', 'ham', '.'), 8.733271258882887)\n",
      "(('that', 'i', 'haue'), 8.625429913193337)\n",
      "(('?', 'guild', '.'), 8.582981580177108)\n",
      "(('?', 'pol', '.'), 8.553234236783055)\n",
      "(('.', 'i', 'pray'), 8.488693984588345)\n",
      "(('i', 'do', 'not'), 8.482368044703492)\n",
      "(('?', 'qu', '.'), 8.43614019184784)\n",
      "(('.', 'exeunt', '.'), 8.418338038892607)\n"
     ]
    }
   ],
   "source": [
    "import nltk\n",
    "from nltk.collocations import TrigramCollocationFinder\n",
    "from nltk.metrics import TrigramAssocMeasures\n",
    "\n",
    "finder_shakespeare = TrigramCollocationFinder.from_words(lemmatized_shakespeare_tokens_words)\n",
    "\n",
    "# Apply a frequency filter to remove trigrams that appear less than 5 times\n",
    "finder_shakespeare.apply_freq_filter(5)\n",
    "\n",
    "# Now, score trigrams using Pointwise Mutual Information (PMI) with TrigramAssocMeasures\n",
    "scored = finder_shakespeare.score_ngrams(TrigramAssocMeasures.pmi)\n",
    "\n",
    "# Print the top 30 scored trigrams\n",
    "for score in scored[:50]:\n",
    "    print(score)\n"
   ]
  },
  {
   "cell_type": "code",
   "execution_count": 107,
   "id": "491bf9d1-5b0e-4dd1-b895-2110807ffbf0",
   "metadata": {},
   "outputs": [
    {
     "name": "stdout",
     "output_type": "stream",
     "text": [
      "(('can', 'it', 'be'), 13.268314204602635)\n",
      "(('the', 'human', 'form'), 12.5603580195441)\n",
      "(('little', 'lamb', ','), 9.590120607184776)\n",
      "(('the', 'voice', 'of'), 8.608032774390743)\n",
      "(('.', \"''\", 'the'), 6.643172443207703)\n",
      "((',', 'like', 'a'), 6.629320617508213)\n",
      "(('tear', ',', 'and'), 6.305606473940529)\n",
      "(('.', 'the', 'little'), 6.280602363822993)\n",
      "((',', 'the', 'human'), 6.14039784169621)\n",
      "((',', 'and', 'he'), 5.153603380495483)\n",
      "((',', 'and', 'i'), 4.453163662354388)\n",
      "((',', 'and', 'the'), 3.46298909221046)\n"
     ]
    }
   ],
   "source": [
    "import nltk\n",
    "from nltk.collocations import TrigramCollocationFinder\n",
    "from nltk.metrics import TrigramAssocMeasures\n",
    "\n",
    "finder_blake = TrigramCollocationFinder.from_words(lemmatized_blake_poems_tokens_words)\n",
    "\n",
    "# Apply a frequency filter to remove trigrams that appear less than 5 times\n",
    "finder_blake.apply_freq_filter(5)\n",
    "\n",
    "\n",
    "# Now, score trigrams using Pointwise Mutual Information (PMI) with TrigramAssocMeasures\n",
    "scored = finder_blake.score_ngrams(TrigramAssocMeasures.pmi)\n",
    "\n",
    "# Print the top 30 scored trigrams\n",
    "for score in scored[:50]:\n",
    "    print(score)\n"
   ]
  },
  {
   "cell_type": "code",
   "execution_count": null,
   "id": "730fd37a-0c02-4c96-8ffc-2d45c2317579",
   "metadata": {},
   "outputs": [],
   "source": []
  }
 ],
 "metadata": {
  "kernelspec": {
   "display_name": "Python 3 (ipykernel)",
   "language": "python",
   "name": "python3"
  },
  "language_info": {
   "codemirror_mode": {
    "name": "ipython",
    "version": 3
   },
   "file_extension": ".py",
   "mimetype": "text/x-python",
   "name": "python",
   "nbconvert_exporter": "python",
   "pygments_lexer": "ipython3",
   "version": "3.11.5"
  }
 },
 "nbformat": 4,
 "nbformat_minor": 5
}
